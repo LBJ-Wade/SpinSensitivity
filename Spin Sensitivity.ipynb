{
 "cells": [
  {
   "cell_type": "code",
   "execution_count": 1,
   "metadata": {},
   "outputs": [
    {
     "name": "stdout",
     "output_type": "stream",
     "text": [
      "Populating the interactive namespace from numpy and matplotlib\n"
     ]
    }
   ],
   "source": [
    "%pylab inline\n",
    "%config InlineBackend.figure_format = 'retina'"
   ]
  },
  {
   "cell_type": "markdown",
   "metadata": {},
   "source": [
    "Here is some code using [LALSimulation](http://software.ligo.org/docs/lalsuite/lalsimulation/index.html) and [Astropy](http://www.astropy.org) to estimate sensitivity to spins for a hypothetical \"GW150914-like\" system (30+40).  WARNING: such systems are probably much more rare than a \"GW151226-like\" system because the true mass distribution is strongly downward-sloping (in fact, Salpeter-like power laws $p(m) \\sim m^{-2.35}$ are entirely consistent with the current observations); see [Abbott, et al. (2017)](https://journals.aps.org/prl/abstract/10.1103/PhysRevLett.118.221101)."
   ]
  },
  {
   "cell_type": "code",
   "execution_count": 2,
   "metadata": {
    "collapsed": true
   },
   "outputs": [],
   "source": [
    "import sys\n",
    "try:\n",
    "    sys.path.index('.')\n",
    "except ValueError:\n",
    "    sys.path.append('.')"
   ]
  },
  {
   "cell_type": "code",
   "execution_count": 3,
   "metadata": {
    "collapsed": true
   },
   "outputs": [],
   "source": [
    "import h5py\n",
    "import vt"
   ]
  },
  {
   "cell_type": "markdown",
   "metadata": {},
   "source": [
    "Let's set up a grid in $\\chi_1$, $\\chi_2$ space, with fixed masses:"
   ]
  },
  {
   "cell_type": "code",
   "execution_count": 4,
   "metadata": {
    "collapsed": true
   },
   "outputs": [],
   "source": [
    "chi1s = linspace(-0.99, 0.99, 25)\n",
    "chi2s = linspace(-0.99, 0.99, 25)\n",
    "CHI1S, CHI2S = meshgrid(chi1s, chi2s)\n",
    "M1S = 40.0*ones_like(CHI1S)\n",
    "M2S = 30.0*ones_like(CHI2S)"
   ]
  },
  {
   "cell_type": "markdown",
   "metadata": {},
   "source": [
    "`vt.vts_from_masses_spins` will return a list of sensitive spacetime volumes at the corresponding mass and spins; `8.0` is the suggested single-IFO threshold from [Abbott, et al. (2016)](http://iopscience.iop.org/article/10.3847/2041-8205/833/1/L1/meta), `1.0` is the total time of the observation (in this case we will re-normalise to the population average sensitivity, so this will drop out)."
   ]
  },
  {
   "cell_type": "code",
   "execution_count": 5,
   "metadata": {},
   "outputs": [],
   "source": [
    "VTS = reshape(vt.vts_from_masses_spins(M1S.ravel(), M2S.ravel(), CHI1S.ravel(), CHI2S.ravel(), 8.0, 1.0), CHI1S.shape)"
   ]
  },
  {
   "cell_type": "markdown",
   "metadata": {},
   "source": [
    "Because `pcolomesh` plots colours *inside* the corresponding rectangle, the dimensions of `VTS` should be one less than `CHI1S`, etc, so we average the values at the corners to get the value in the cell.  Note that we normalise $VT$ to the population average (the population is $m_1 = 40\\, M_\\odot$, $m_2 = 30 \\, M_\\odot$, $\\chi_{1,2} \\sim U\\left( -1 , 1 \\right)$)."
   ]
  },
  {
   "cell_type": "code",
   "execution_count": 6,
   "metadata": {},
   "outputs": [],
   "source": [
    "VTS = 0.25*(VTS[1:,1:] + VTS[1:,:-1] + VTS[:-1,1:] + VTS[:-1,:-1])\n",
    "VTS /= mean(VTS)"
   ]
  },
  {
   "cell_type": "markdown",
   "metadata": {},
   "source": [
    "And the sensitivity as a function of $\\chi_{1,2}$:"
   ]
  },
  {
   "cell_type": "code",
   "execution_count": 9,
   "metadata": {},
   "outputs": [
    {
     "data": {
      "image/png": "[encoded data removed]",
      "text/plain": [
       "<matplotlib.figure.Figure at 0x10d7fc690>"
      ]
     },
     "metadata": {
      "image/png": {
       "height": 276,
       "width": 402
      }
     },
     "output_type": "display_data"
    }
   ],
   "source": [
    "pcolormesh(CHI1S, CHI2S, VTS)\n",
    "colorbar()\n",
    "xlabel(r'$\\chi_1$')\n",
    "ylabel(r'$\\chi_2$')\n",
    "title(r'$VT\\left( \\chi_1, \\chi_2 \\right) / \\langle VT \\rangle$')\n",
    "tight_layout()\n",
    "savefig('GW150914-like-VTs.pdf')"
   ]
  },
  {
   "cell_type": "code",
   "execution_count": 10,
   "metadata": {},
   "outputs": [],
   "source": [
    "with h5py.File('GW150914-like-VTs.h5','w') as out:\n",
    "    out.create_dataset('chi1', data=CHI1S, compression='gzip', shuffle=True)\n",
    "    out.create_dataset('chi2', data=CHI2S, compression='gzip', shuffle=True)\n",
    "    out.create_dataset('VT', data=VTS, compression='gzip', shuffle=True)\n",
    "    out.attrs['MUnits'] = 'MSun'\n",
    "    out.attrs['m1'] = 40.0\n",
    "    out.attrs['m2'] = 30.0"
   ]
  },
  {
   "cell_type": "code",
   "execution_count": null,
   "metadata": {
    "collapsed": true
   },
   "outputs": [],
   "source": []
  }
 ],
 "metadata": {
  "kernelspec": {
   "display_name": "Python 2",
   "language": "python",
   "name": "python2"
  },
  "language_info": {
   "codemirror_mode": {
    "name": "ipython",
    "version": 2
   },
   "file_extension": ".py",
   "mimetype": "text/x-python",
   "name": "python",
   "nbconvert_exporter": "python",
   "pygments_lexer": "ipython2",
   "version": "2.7.13"
  }
 },
 "nbformat": 4,
 "nbformat_minor": 2
}
